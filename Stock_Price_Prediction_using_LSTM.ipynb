{
  "nbformat": 4,
  "nbformat_minor": 0,
  "metadata": {
    "colab": {
      "name": "Stock Price Prediction using LSTM",
      "provenance": [],
      "collapsed_sections": [
        "2aB_Dp5aBCwy",
        "5C8fiuDpA7X1",
        "HHQ8x129Bsji",
        "g0bM8Y5ZF4nO",
        "rKsLfzgWUCfU",
        "IWyguzx5bYbL",
        "cUL6MR7diYt1",
        "a-at2TMRwIaV"
      ]
    },
    "kernelspec": {
      "name": "python3",
      "display_name": "Python 3"
    }
  },
  "cells": [
    {
      "cell_type": "markdown",
      "metadata": {
        "id": "ufP3DFCusu_H",
        "colab_type": "text"
      },
      "source": [
        "**Artificial recurrent neural network LSTM is long short term memory which is used to predict the stock price**"
      ]
    },
    {
      "cell_type": "markdown",
      "metadata": {
        "id": "2aB_Dp5aBCwy",
        "colab_type": "text"
      },
      "source": [
        "# IMPORTING LIBRARIES"
      ]
    },
    {
      "cell_type": "code",
      "metadata": {
        "id": "f7y9I2Oes5Dc",
        "colab_type": "code",
        "colab": {
          "base_uri": "https://localhost:8080/",
          "height": 70
        },
        "outputId": "d85a2603-4a61-47e0-b960-debba51de395"
      },
      "source": [
        "import pandas as pd\n",
        "import math\n",
        "import numpy as np\n",
        "from sklearn.preprocessing import MinMaxScaler\n",
        "import matplotlib.pyplot as plt \n",
        "plt.style.use('fivethirtyeight')\n",
        "import pandas_datareader as web"
      ],
      "execution_count": 1,
      "outputs": [
        {
          "output_type": "stream",
          "text": [
            "/usr/local/lib/python3.6/dist-packages/pandas_datareader/compat/__init__.py:7: FutureWarning: pandas.util.testing is deprecated. Use the functions in the public API at pandas.testing instead.\n",
            "  from pandas.util.testing import assert_frame_equal\n"
          ],
          "name": "stderr"
        }
      ]
    },
    {
      "cell_type": "code",
      "metadata": {
        "id": "41v8xFdKtEE_",
        "colab_type": "code",
        "outputId": "677168c7-2393-4a48-b9b0-ad4429942c6b",
        "colab": {
          "base_uri": "https://localhost:8080/",
          "height": 34
        }
      },
      "source": [
        "from keras.models import Sequential\n",
        "from keras.layers import Dense,LSTM"
      ],
      "execution_count": 2,
      "outputs": [
        {
          "output_type": "stream",
          "text": [
            "Using TensorFlow backend.\n"
          ],
          "name": "stderr"
        }
      ]
    },
    {
      "cell_type": "markdown",
      "metadata": {
        "id": "5C8fiuDpA7X1",
        "colab_type": "text"
      },
      "source": [
        "# Taking Data from web Cleaning it"
      ]
    },
    {
      "cell_type": "code",
      "metadata": {
        "id": "6JpXtkTT_U9i",
        "colab_type": "code",
        "colab": {
          "base_uri": "https://localhost:8080/",
          "height": 431
        },
        "outputId": "89fcecca-581c-4662-ccc6-eef2d95ceb57"
      },
      "source": [
        "df=web.DataReader('AAPL',data_source='yahoo', start='2008-01-01', end='2020-01-01')\n",
        "df"
      ],
      "execution_count": 3,
      "outputs": [
        {
          "output_type": "execute_result",
          "data": {
            "text/html": [
              "<div>\n",
              "<style scoped>\n",
              "    .dataframe tbody tr th:only-of-type {\n",
              "        vertical-align: middle;\n",
              "    }\n",
              "\n",
              "    .dataframe tbody tr th {\n",
              "        vertical-align: top;\n",
              "    }\n",
              "\n",
              "    .dataframe thead th {\n",
              "        text-align: right;\n",
              "    }\n",
              "</style>\n",
              "<table border=\"1\" class=\"dataframe\">\n",
              "  <thead>\n",
              "    <tr style=\"text-align: right;\">\n",
              "      <th></th>\n",
              "      <th>High</th>\n",
              "      <th>Low</th>\n",
              "      <th>Open</th>\n",
              "      <th>Close</th>\n",
              "      <th>Volume</th>\n",
              "      <th>Adj Close</th>\n",
              "    </tr>\n",
              "    <tr>\n",
              "      <th>Date</th>\n",
              "      <th></th>\n",
              "      <th></th>\n",
              "      <th></th>\n",
              "      <th></th>\n",
              "      <th></th>\n",
              "      <th></th>\n",
              "    </tr>\n",
              "  </thead>\n",
              "  <tbody>\n",
              "    <tr>\n",
              "      <th>2008-01-02</th>\n",
              "      <td>28.608572</td>\n",
              "      <td>27.507143</td>\n",
              "      <td>28.467142</td>\n",
              "      <td>27.834286</td>\n",
              "      <td>269794700.0</td>\n",
              "      <td>24.096073</td>\n",
              "    </tr>\n",
              "    <tr>\n",
              "      <th>2008-01-03</th>\n",
              "      <td>28.198572</td>\n",
              "      <td>27.527143</td>\n",
              "      <td>27.915714</td>\n",
              "      <td>27.847143</td>\n",
              "      <td>210516600.0</td>\n",
              "      <td>24.107191</td>\n",
              "    </tr>\n",
              "    <tr>\n",
              "      <th>2008-01-04</th>\n",
              "      <td>27.571428</td>\n",
              "      <td>25.555714</td>\n",
              "      <td>27.350000</td>\n",
              "      <td>25.721428</td>\n",
              "      <td>363958000.0</td>\n",
              "      <td>22.266973</td>\n",
              "    </tr>\n",
              "    <tr>\n",
              "      <th>2008-01-07</th>\n",
              "      <td>26.228571</td>\n",
              "      <td>24.318571</td>\n",
              "      <td>25.892857</td>\n",
              "      <td>25.377142</td>\n",
              "      <td>518048300.0</td>\n",
              "      <td>21.968927</td>\n",
              "    </tr>\n",
              "    <tr>\n",
              "      <th>2008-01-08</th>\n",
              "      <td>26.065714</td>\n",
              "      <td>24.400000</td>\n",
              "      <td>25.734285</td>\n",
              "      <td>24.464285</td>\n",
              "      <td>380954000.0</td>\n",
              "      <td>21.178667</td>\n",
              "    </tr>\n",
              "    <tr>\n",
              "      <th>...</th>\n",
              "      <td>...</td>\n",
              "      <td>...</td>\n",
              "      <td>...</td>\n",
              "      <td>...</td>\n",
              "      <td>...</td>\n",
              "      <td>...</td>\n",
              "    </tr>\n",
              "    <tr>\n",
              "      <th>2019-12-24</th>\n",
              "      <td>284.890015</td>\n",
              "      <td>282.920013</td>\n",
              "      <td>284.690002</td>\n",
              "      <td>284.269989</td>\n",
              "      <td>12119700.0</td>\n",
              "      <td>282.831299</td>\n",
              "    </tr>\n",
              "    <tr>\n",
              "      <th>2019-12-26</th>\n",
              "      <td>289.980011</td>\n",
              "      <td>284.700012</td>\n",
              "      <td>284.820007</td>\n",
              "      <td>289.910004</td>\n",
              "      <td>23280300.0</td>\n",
              "      <td>288.442780</td>\n",
              "    </tr>\n",
              "    <tr>\n",
              "      <th>2019-12-27</th>\n",
              "      <td>293.970001</td>\n",
              "      <td>288.119995</td>\n",
              "      <td>291.119995</td>\n",
              "      <td>289.799988</td>\n",
              "      <td>36566500.0</td>\n",
              "      <td>288.333313</td>\n",
              "    </tr>\n",
              "    <tr>\n",
              "      <th>2019-12-30</th>\n",
              "      <td>292.690002</td>\n",
              "      <td>285.220001</td>\n",
              "      <td>289.459991</td>\n",
              "      <td>291.519989</td>\n",
              "      <td>36028600.0</td>\n",
              "      <td>290.044617</td>\n",
              "    </tr>\n",
              "    <tr>\n",
              "      <th>2019-12-31</th>\n",
              "      <td>293.679993</td>\n",
              "      <td>289.519989</td>\n",
              "      <td>289.929993</td>\n",
              "      <td>293.649994</td>\n",
              "      <td>25201400.0</td>\n",
              "      <td>292.163818</td>\n",
              "    </tr>\n",
              "  </tbody>\n",
              "</table>\n",
              "<p>3021 rows × 6 columns</p>\n",
              "</div>"
            ],
            "text/plain": [
              "                  High         Low  ...       Volume   Adj Close\n",
              "Date                                ...                         \n",
              "2008-01-02   28.608572   27.507143  ...  269794700.0   24.096073\n",
              "2008-01-03   28.198572   27.527143  ...  210516600.0   24.107191\n",
              "2008-01-04   27.571428   25.555714  ...  363958000.0   22.266973\n",
              "2008-01-07   26.228571   24.318571  ...  518048300.0   21.968927\n",
              "2008-01-08   26.065714   24.400000  ...  380954000.0   21.178667\n",
              "...                ...         ...  ...          ...         ...\n",
              "2019-12-24  284.890015  282.920013  ...   12119700.0  282.831299\n",
              "2019-12-26  289.980011  284.700012  ...   23280300.0  288.442780\n",
              "2019-12-27  293.970001  288.119995  ...   36566500.0  288.333313\n",
              "2019-12-30  292.690002  285.220001  ...   36028600.0  290.044617\n",
              "2019-12-31  293.679993  289.519989  ...   25201400.0  292.163818\n",
              "\n",
              "[3021 rows x 6 columns]"
            ]
          },
          "metadata": {
            "tags": []
          },
          "execution_count": 3
        }
      ]
    },
    {
      "cell_type": "code",
      "metadata": {
        "id": "uyRWxUq0FN49",
        "colab_type": "code",
        "colab": {}
      },
      "source": [
        "#taking only 1 column\n",
        "data=df.filter(['Close'])\n",
        "#converting to numpy array\n",
        "dataset=data.values"
      ],
      "execution_count": 0,
      "outputs": []
    },
    {
      "cell_type": "markdown",
      "metadata": {
        "id": "HHQ8x129Bsji",
        "colab_type": "text"
      },
      "source": [
        "# Visualizing the closing price history"
      ]
    },
    {
      "cell_type": "code",
      "metadata": {
        "id": "dn5tzbooB9vt",
        "colab_type": "code",
        "colab": {
          "base_uri": "https://localhost:8080/",
          "height": 618
        },
        "outputId": "0153e25c-1013-45d5-c975-25e94be6dddc"
      },
      "source": [
        "plt.figure(figsize=(22,10))\n",
        "plt.title('Closing Price History')\n",
        "plt.plot(df['Close'])\n",
        "plt.xlabel('Date',fontsize = 18)\n",
        "plt.ylabel('Closing Price in USD',fontsize = 20)\n",
        "plt.show()"
      ],
      "execution_count": 5,
      "outputs": [
        {
          "output_type": "display_data",
          "data": {
            "image/png": "[encoded data removed]",
            "text/plain": [
              "<Figure size 1584x720 with 1 Axes>"
            ]
          },
          "metadata": {
            "tags": [],
            "needs_background": "light"
          }
        }
      ]
    },
    {
      "cell_type": "code",
      "metadata": {
        "id": "oJG8LxdwCyTC",
        "colab_type": "code",
        "colab": {}
      },
      "source": [
        ""
      ],
      "execution_count": 0,
      "outputs": []
    },
    {
      "cell_type": "markdown",
      "metadata": {
        "id": "g0bM8Y5ZF4nO",
        "colab_type": "text"
      },
      "source": [
        "# Preprocessing"
      ]
    },
    {
      "cell_type": "code",
      "metadata": {
        "id": "dBmxvmqgF9Jw",
        "colab_type": "code",
        "colab": {
          "base_uri": "https://localhost:8080/",
          "height": 34
        },
        "outputId": "6fea35bf-2904-4cfe-fdcb-7a7c37b9e6fa"
      },
      "source": [
        "#get number of rows to train the model on\n",
        "#traing on 90% of the data\n",
        "#math.dataceil to round up\n",
        "training_data_len=math.ceil(len(dataset)*0.9)\n",
        "training_data_len"
      ],
      "execution_count": 6,
      "outputs": [
        {
          "output_type": "execute_result",
          "data": {
            "text/plain": [
              "2719"
            ]
          },
          "metadata": {
            "tags": []
          },
          "execution_count": 6
        }
      ]
    },
    {
      "cell_type": "code",
      "metadata": {
        "id": "vTbQDbgKG0w9",
        "colab_type": "code",
        "colab": {
          "base_uri": "https://localhost:8080/",
          "height": 134
        },
        "outputId": "7fff67e7-8fa9-4331-f515-f6185d173ca8"
      },
      "source": [
        "#scale the data\n",
        "scalar = MinMaxScaler(feature_range=(0,1))\n",
        "#transform b/w 0 and 1\n",
        "scaled_data = scalar.fit_transform(dataset)\n",
        "scaled_data"
      ],
      "execution_count": 7,
      "outputs": [
        {
          "output_type": "execute_result",
          "data": {
            "text/plain": [
              "array([[0.05898804],\n",
              "       [0.05903356],\n",
              "       [0.05150833],\n",
              "       ...,\n",
              "       [0.98637063],\n",
              "       [0.99245959],\n",
              "       [1.        ]])"
            ]
          },
          "metadata": {
            "tags": []
          },
          "execution_count": 7
        }
      ]
    },
    {
      "cell_type": "code",
      "metadata": {
        "id": "1T1Q1knWMpw1",
        "colab_type": "code",
        "colab": {}
      },
      "source": [
        "#create scaled traing dataset\n",
        "train_data=scaled_data[0:training_data_len,:]\n",
        "#split the data\n",
        "x_train=[]\n",
        "y_train=[]\n",
        "\n",
        "\n",
        "#for every 60 values we want to predict 61st value\n",
        "#for next 60 days we want to predict using 120 days data\n",
        "#in 2nd pass through we will take 2nd number as 1st and 61st as 60th\n",
        "for i in range(60,len(train_data)):\n",
        "  x_train.append(train_data[i-60:i,0])\n",
        "  y_train.append(train_data[i,0])"
      ],
      "execution_count": 0,
      "outputs": []
    },
    {
      "cell_type": "code",
      "metadata": {
        "id": "Vl2kPoXuRL98",
        "colab_type": "code",
        "colab": {}
      },
      "source": [
        "#convert sets to numpy arrays\n",
        "x_train,y_train=np.array(x_train),np.array(y_train)"
      ],
      "execution_count": 0,
      "outputs": []
    },
    {
      "cell_type": "code",
      "metadata": {
        "id": "e4_WTvWYRVoR",
        "colab_type": "code",
        "colab": {
          "base_uri": "https://localhost:8080/",
          "height": 34
        },
        "outputId": "33af784a-8097-4742-b63c-d2f742a88dae"
      },
      "source": [
        "#reshape the data so that we can get a 3d data from a 2d data\n",
        "x_train=np.reshape(x_train, (x_train.shape[0],x_train.shape[1],1))\n",
        "x_train.shape"
      ],
      "execution_count": 10,
      "outputs": [
        {
          "output_type": "execute_result",
          "data": {
            "text/plain": [
              "(2659, 60, 1)"
            ]
          },
          "metadata": {
            "tags": []
          },
          "execution_count": 10
        }
      ]
    },
    {
      "cell_type": "code",
      "metadata": {
        "id": "ggjOAZ4qSntI",
        "colab_type": "code",
        "colab": {}
      },
      "source": [
        "#BUILD the LSTM model we added a secon LSTM layer of 50 neurons\n",
        "model = Sequential()\n",
        "model.add(LSTM(50, return_sequences=True, input_shape=(60,1)))\n",
        "model.add(LSTM(50, return_sequences=False))\n",
        "model.add(Dense(25))\n",
        "model.add(Dense(1))"
      ],
      "execution_count": 0,
      "outputs": []
    },
    {
      "cell_type": "markdown",
      "metadata": {
        "id": "rKsLfzgWUCfU",
        "colab_type": "text"
      },
      "source": [
        "# Compiling the Model"
      ]
    },
    {
      "cell_type": "code",
      "metadata": {
        "id": "fmBpcMQqULcM",
        "colab_type": "code",
        "colab": {}
      },
      "source": [
        "#optimiser is used to improve and loss is used to measure how well the model performed \n",
        "model.compile(optimizer='adam',loss='mean_squared_error')"
      ],
      "execution_count": 0,
      "outputs": []
    },
    {
      "cell_type": "code",
      "metadata": {
        "id": "n5v3R18HVVLQ",
        "colab_type": "code",
        "colab": {
          "base_uri": "https://localhost:8080/",
          "height": 67
        },
        "outputId": "2f1d8505-cb39-46a3-a43b-d393aa2e31cb"
      },
      "source": [
        "#trailing the model\n",
        "model.fit(x_train,y_train, batch_size=1,epochs=1 )"
      ],
      "execution_count": 13,
      "outputs": [
        {
          "output_type": "stream",
          "text": [
            "Epoch 1/1\n",
            "2659/2659 [==============================] - 110s 42ms/step - loss: 6.0996e-04\n"
          ],
          "name": "stdout"
        },
        {
          "output_type": "execute_result",
          "data": {
            "text/plain": [
              "<keras.callbacks.callbacks.History at 0x7f17753dab00>"
            ]
          },
          "metadata": {
            "tags": []
          },
          "execution_count": 13
        }
      ]
    },
    {
      "cell_type": "code",
      "metadata": {
        "id": "WqMbbNTiVr60",
        "colab_type": "code",
        "colab": {}
      },
      "source": [
        "#create the testing dataset\n",
        "#letscreate a new array from 2659 to 3021\n",
        "test_data=scaled_data[training_data_len-60: , :]\n",
        "#create the new datasets x_test, y_test \n",
        "x_test=[]\n",
        "y_test=dataset[training_data_len: ,:]\n",
        "for i in range(60,len(test_data)):\n",
        "  x_test.append(test_data[i-60:i,0])\n",
        "\n",
        "#converting to np array\n",
        "x_test=np.array(x_test)"
      ],
      "execution_count": 0,
      "outputs": []
    },
    {
      "cell_type": "code",
      "metadata": {
        "id": "1AgbZxZWX-Uo",
        "colab_type": "code",
        "colab": {}
      },
      "source": [
        "#reshape the data \n",
        "x_test=np.reshape(x_test,(x_test.shape[0],x_test.shape[1],1))"
      ],
      "execution_count": 0,
      "outputs": []
    },
    {
      "cell_type": "markdown",
      "metadata": {
        "id": "IWyguzx5bYbL",
        "colab_type": "text"
      },
      "source": [
        "# Predictions"
      ]
    },
    {
      "cell_type": "code",
      "metadata": {
        "id": "fejxmiwebbDI",
        "colab_type": "code",
        "colab": {}
      },
      "source": [
        "predictions = model.predict(x_test)\n",
        "#now we will inverse transform the data\n",
        "predictions=scalar.inverse_transform(predictions)\n",
        "#we are descaling the values as we want them to be similar to y_ test dataset"
      ],
      "execution_count": 0,
      "outputs": []
    },
    {
      "cell_type": "code",
      "metadata": {
        "id": "HAiU6PKXeO0B",
        "colab_type": "code",
        "colab": {
          "base_uri": "https://localhost:8080/",
          "height": 34
        },
        "outputId": "d8f22e53-3281-4f08-88e0-1c94df60d12b"
      },
      "source": [
        "#get the root mean squared error (rmse)\n",
        "rmse=np.sqrt(np.mean(((predictions- y_test)**2)))\n",
        "#if would have been 0 it would have been accurate \n",
        "rmse "
      ],
      "execution_count": 17,
      "outputs": [
        {
          "output_type": "execute_result",
          "data": {
            "text/plain": [
              "6.195590982960156"
            ]
          },
          "metadata": {
            "tags": []
          },
          "execution_count": 17
        }
      ]
    },
    {
      "cell_type": "markdown",
      "metadata": {
        "id": "cUL6MR7diYt1",
        "colab_type": "text"
      },
      "source": [
        "# **Visualization**"
      ]
    },
    {
      "cell_type": "code",
      "metadata": {
        "id": "0VsB3_yKieot",
        "colab_type": "code",
        "colab": {
          "base_uri": "https://localhost:8080/",
          "height": 118
        },
        "outputId": "5128c335-1712-4284-99ba-fc53d4b16b87"
      },
      "source": [
        "train=data[:training_data_len]\n",
        "valid=data[training_data_len:]\n",
        "valid['Predictions']=predictions\n"
      ],
      "execution_count": 26,
      "outputs": [
        {
          "output_type": "stream",
          "text": [
            "/usr/local/lib/python3.6/dist-packages/ipykernel_launcher.py:3: SettingWithCopyWarning: \n",
            "A value is trying to be set on a copy of a slice from a DataFrame.\n",
            "Try using .loc[row_indexer,col_indexer] = value instead\n",
            "\n",
            "See the caveats in the documentation: https://pandas.pydata.org/pandas-docs/stable/user_guide/indexing.html#returning-a-view-versus-a-copy\n",
            "  This is separate from the ipykernel package so we can avoid doing imports until\n"
          ],
          "name": "stderr"
        }
      ]
    },
    {
      "cell_type": "code",
      "metadata": {
        "id": "FMeaw92pkDoN",
        "colab_type": "code",
        "colab": {
          "base_uri": "https://localhost:8080/",
          "height": 518
        },
        "outputId": "3721941c-6d74-41da-da47-27e433f1ae17"
      },
      "source": [
        "plt.figure(figsize=(16,8))\n",
        "plt.plot(train['Close'])\n",
        "plt.plot(valid[['Close','Predictions']])\n",
        "\n",
        "plt.title('PREDICTIONS')\n",
        "plt.xlabel('Date',fontsize = 18)\n",
        "plt.ylabel('Closing Price in USD',fontsize = 20)\n",
        "plt.legend(['Train','Valid','Prediction'],loc='lower right')\n",
        "plt.show()\n"
      ],
      "execution_count": 28,
      "outputs": [
        {
          "output_type": "display_data",
          "data": {
            "image/png": "[encoded data removed]",
            "text/plain": [
              "<Figure size 1152x576 with 1 Axes>"
            ]
          },
          "metadata": {
            "tags": [],
            "needs_background": "light"
          }
        }
      ]
    },
    {
      "cell_type": "code",
      "metadata": {
        "id": "yVlu0e0Cr5-x",
        "colab_type": "code",
        "colab": {
          "base_uri": "https://localhost:8080/",
          "height": 431
        },
        "outputId": "b6c5f301-a69e-4200-c2e7-d26214986462"
      },
      "source": [
        "valid"
      ],
      "execution_count": 29,
      "outputs": [
        {
          "output_type": "execute_result",
          "data": {
            "text/html": [
              "<div>\n",
              "<style scoped>\n",
              "    .dataframe tbody tr th:only-of-type {\n",
              "        vertical-align: middle;\n",
              "    }\n",
              "\n",
              "    .dataframe tbody tr th {\n",
              "        vertical-align: top;\n",
              "    }\n",
              "\n",
              "    .dataframe thead th {\n",
              "        text-align: right;\n",
              "    }\n",
              "</style>\n",
              "<table border=\"1\" class=\"dataframe\">\n",
              "  <thead>\n",
              "    <tr style=\"text-align: right;\">\n",
              "      <th></th>\n",
              "      <th>Close</th>\n",
              "      <th>Predictions</th>\n",
              "    </tr>\n",
              "    <tr>\n",
              "      <th>Date</th>\n",
              "      <th></th>\n",
              "      <th></th>\n",
              "    </tr>\n",
              "  </thead>\n",
              "  <tbody>\n",
              "    <tr>\n",
              "      <th>2018-10-18</th>\n",
              "      <td>216.020004</td>\n",
              "      <td>222.082550</td>\n",
              "    </tr>\n",
              "    <tr>\n",
              "      <th>2018-10-19</th>\n",
              "      <td>219.309998</td>\n",
              "      <td>221.493500</td>\n",
              "    </tr>\n",
              "    <tr>\n",
              "      <th>2018-10-22</th>\n",
              "      <td>220.649994</td>\n",
              "      <td>221.155228</td>\n",
              "    </tr>\n",
              "    <tr>\n",
              "      <th>2018-10-23</th>\n",
              "      <td>222.729996</td>\n",
              "      <td>221.121445</td>\n",
              "    </tr>\n",
              "    <tr>\n",
              "      <th>2018-10-24</th>\n",
              "      <td>215.089996</td>\n",
              "      <td>221.483307</td>\n",
              "    </tr>\n",
              "    <tr>\n",
              "      <th>...</th>\n",
              "      <td>...</td>\n",
              "      <td>...</td>\n",
              "    </tr>\n",
              "    <tr>\n",
              "      <th>2019-12-24</th>\n",
              "      <td>284.269989</td>\n",
              "      <td>278.381592</td>\n",
              "    </tr>\n",
              "    <tr>\n",
              "      <th>2019-12-26</th>\n",
              "      <td>289.910004</td>\n",
              "      <td>279.571075</td>\n",
              "    </tr>\n",
              "    <tr>\n",
              "      <th>2019-12-27</th>\n",
              "      <td>289.799988</td>\n",
              "      <td>281.264587</td>\n",
              "    </tr>\n",
              "    <tr>\n",
              "      <th>2019-12-30</th>\n",
              "      <td>291.519989</td>\n",
              "      <td>282.963043</td>\n",
              "    </tr>\n",
              "    <tr>\n",
              "      <th>2019-12-31</th>\n",
              "      <td>293.649994</td>\n",
              "      <td>284.666138</td>\n",
              "    </tr>\n",
              "  </tbody>\n",
              "</table>\n",
              "<p>302 rows × 2 columns</p>\n",
              "</div>"
            ],
            "text/plain": [
              "                 Close  Predictions\n",
              "Date                               \n",
              "2018-10-18  216.020004   222.082550\n",
              "2018-10-19  219.309998   221.493500\n",
              "2018-10-22  220.649994   221.155228\n",
              "2018-10-23  222.729996   221.121445\n",
              "2018-10-24  215.089996   221.483307\n",
              "...                ...          ...\n",
              "2019-12-24  284.269989   278.381592\n",
              "2019-12-26  289.910004   279.571075\n",
              "2019-12-27  289.799988   281.264587\n",
              "2019-12-30  291.519989   282.963043\n",
              "2019-12-31  293.649994   284.666138\n",
              "\n",
              "[302 rows x 2 columns]"
            ]
          },
          "metadata": {
            "tags": []
          },
          "execution_count": 29
        }
      ]
    },
    {
      "cell_type": "code",
      "metadata": {
        "id": "Z9b3w3lxsIFb",
        "colab_type": "code",
        "colab": {}
      },
      "source": [
        ""
      ],
      "execution_count": 0,
      "outputs": []
    },
    {
      "cell_type": "markdown",
      "metadata": {
        "id": "a-at2TMRwIaV",
        "colab_type": "text"
      },
      "source": [
        "# **PREDICTING**"
      ]
    },
    {
      "cell_type": "code",
      "metadata": {
        "id": "JRg3ohpVwM6M",
        "colab_type": "code",
        "colab": {
          "base_uri": "https://localhost:8080/",
          "height": 34
        },
        "outputId": "ac376dca-f1c8-4093-aa85-d46179b7c35c"
      },
      "source": [
        "newdf=web.DataReader('AAPL',data_source='yahoo', start='2008-01-01', end='2020-01-01')\n",
        "#taking only 1 column\n",
        "data=newdf.filter(['Close'])\n",
        "#converting to numpy array\n",
        "last60days=data[-60:].values\n",
        "last60days=scalar.transform(last60days)\n",
        "X_test=[]\n",
        "X_test.append(last60days)\n",
        "X_test=np.array(X_test)\n",
        "X_test=np.reshape(X_test,(X_test.shape[0],X_test.shape[1],1))\n",
        "pred_price=model.predict(X_test)\n",
        "pred_price=scalar.inverse_transform(pred_price)\n",
        "#this is the predicted closing price of 1-1-2020\n",
        "print(pred_price)\n"
      ],
      "execution_count": 31,
      "outputs": [
        {
          "output_type": "stream",
          "text": [
            "[[286.40643]]\n"
          ],
          "name": "stdout"
        }
      ]
    },
    {
      "cell_type": "code",
      "metadata": {
        "id": "DpOwBRO4wQo6",
        "colab_type": "code",
        "colab": {
          "base_uri": "https://localhost:8080/",
          "height": 67
        },
        "outputId": "aca07cb7-da8a-4e05-a08e-89b856c596ae"
      },
      "source": [
        "k=web.DataReader('AAPL',data_source='yahoo', start='2019-12-31', end='2020-01-01')\n",
        "print(k['Close'])"
      ],
      "execution_count": 38,
      "outputs": [
        {
          "output_type": "stream",
          "text": [
            "Date\n",
            "2019-12-31    293.649994\n",
            "Name: Close, dtype: float64\n"
          ],
          "name": "stdout"
        }
      ]
    },
    {
      "cell_type": "code",
      "metadata": {
        "id": "IBPHEsToz0uB",
        "colab_type": "code",
        "colab": {}
      },
      "source": [
        ""
      ],
      "execution_count": 0,
      "outputs": []
    },
    {
      "cell_type": "code",
      "metadata": {
        "id": "AZQ8M8RM1IWz",
        "colab_type": "code",
        "colab": {}
      },
      "source": [
        ""
      ],
      "execution_count": 0,
      "outputs": []
    }
  ]
}